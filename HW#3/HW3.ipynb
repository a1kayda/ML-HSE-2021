{
 "cells": [
  {
   "cell_type": "markdown",
   "metadata": {
    "id": "s3v5HIUdDvY5"
   },
   "source": [
    "# HSE 2021: Mathematical Methods for Data Analysis\n",
    "\n",
    "## Homework 3\n",
    "\n",
    "**Warning 1**: some problems require (especially the lemmatization part) significant amount of time, so **it is better to start early (!)**\n",
    "\n",
    "**Warning 2**: it is critical to describe and explain what you are doing and why, use markdown cells\n",
    "\n",
    "### Attention!\n",
    "* For tasks where <ins>text answer</ins> is required **Russian language** is **allowed**.\n",
    "* If a task asks you to describe something (make conclusions) then **text answer** is **mandatory** and **is** part of the task\n",
    "* We **only** accept **ipynb** notebooks. If you use Google Colab then you'll have to download the notebook before passing the homework\n",
    "* **Do not** use python loops instead of NumPy vector operations over NumPy vectors - it significantly decreases performance (see why https://blog.paperspace.com/numpy-optimization-vectorization-and-broadcasting/), will be punished with -0.25 for **every** task. "
   ]
  },
  {
   "cell_type": "code",
   "execution_count": 1,
   "metadata": {
    "id": "F7t9dYtdDvZC"
   },
   "outputs": [],
   "source": [
    "from typing import Tuple, List\n",
    "\n",
    "import matplotlib.pyplot as plt\n",
    "import numpy as np\n",
    "import pandas as pd\n",
    "import seaborn as sns\n",
    "%matplotlib inline\n",
    "\n",
    "sns.set(style=\"darkgrid\")"
   ]
  },
  {
   "cell_type": "markdown",
   "metadata": {
    "id": "fIHtwV6vDvZD"
   },
   "source": [
    "## PART 1: Logit model"
   ]
  },
  {
   "cell_type": "markdown",
   "metadata": {
    "id": "Q7XKEWcVDvZD"
   },
   "source": [
    "We consider a binary classification problem. For prediction, we would like to use a logistic regression model. For regularization we add a combination of the $l_2$ and $l_1$ penalties (Elastic Net). \n",
    "\n",
    "Each object in the training dataset is indexed with $i$ and described by pair: features $x_i\\in\\mathbb{R}^{K}$ and binary labels $y_i$. The model is parametrized with bias $w_0\\in\\mathbb{R}$ and weights $w\\in\\mathbb{R}^K$.\n",
    "\n",
    "The optimization problem with respect to the $w_0, w$ is the following (Elastic Net Loss):\n",
    "\n",
    "$$L(w, w_0) = \\frac{1}{N} \\sum_{i=1}^N \\ln(1+\\exp(-y_i(w^\\top x_i+w_0))) + \\gamma \\|w\\|_1 + \\beta \\|w\\|_2^2$$."
   ]
  },
  {
   "cell_type": "markdown",
   "metadata": {
    "id": "j1eSuDKXFVZu"
   },
   "source": [
    "#### 1. [0.5 points]  Find the gradient of the Elastic Net loss and write its formulas (better in latex format) "
   ]
  },
  {
   "cell_type": "markdown",
   "metadata": {
    "id": "1zjH-YnPDvZD"
   },
   "source": [
    "$$ \\nabla_w ( \\ln(1+\\exp(-y\\langle w, x \\rangle)) =- \\frac{\\exp(-y\\langle w, x \\rangle)}{1+\\exp(-y\\langle w, x \\rangle))} y x = \\left \\{ \\sigma(z) = \\frac {1}{1 + \\exp(-z)}\\right \\}= - \\sigma(-y\\langle w, x \\rangle) y x  $$ \n",
    "\n",
    "$$ \\nabla_w ( \\gamma  \\|w\\|_1) = \\gamma \\nabla_w ( \\|w\\|_1) = \\gamma sign(w) $$ \n",
    "\n",
    "$$ \\nabla_w (\\beta \\|w\\|_2^2) = \\beta \\nabla_w ( \\|w\\|_2^2) = 2\\beta w  $$ \n",
    "\n",
    "$$\\nabla_w L(w, w_0) = \\nabla_w ( \\frac{1}{N} \\sum_{i=1}^N \\ln(1+\\exp(-y_i(w^\\top x_i+w_0))) + \\gamma \\|w\\|_1 + \\beta \\|w\\|_2^2) = - \\frac{1}{N} \\sum_{i=1}^N (\\sigma(-y_i(w^\\top x_i + w_0)) y_i x_i ) + \\gamma sign(w) + 2\\beta w $$ \n",
    " $$\\nabla _{w_0} L(w, w_0) = - \\frac{1}{N} \\sum_{i=1}^N \\sigma(-y_i (w^\\top x_i + w_0)) y_i $$"
   ]
  },
  {
   "cell_type": "markdown",
   "metadata": {
    "id": "eRQTLbTdiZb5"
   },
   "source": [
    "**Reminder!**\n",
    "Do not use loops in task 2 and task 3. Loss and grad functions should be implemented in matrix form, without loops."
   ]
  },
  {
   "cell_type": "markdown",
   "metadata": {
    "id": "Q_lIccN_DvZE"
   },
   "source": [
    "#### 2. [0.5 points] Implement the Elastic Net loss (as a function)"
   ]
  },
  {
   "cell_type": "code",
   "execution_count": 2,
   "metadata": {
    "id": "9QNfCtV5DvZE"
   },
   "outputs": [],
   "source": [
    "def loss(X, y, w: List[float], w0: float, gamma=1., beta=1.) -> float:\n",
    "    \n",
    "    \"\"\"\n",
    "    :param w: np.ndarray of shape (n_features,) -- the weights\n",
    "    :param w0: intercept\n",
    "    :param X: np.ndarray of shape (n_objects, n_features) -- matrix objects-features\n",
    "    :param y: np.ndarray of shape (n_objects,) -- vector of the correct answers\n",
    "    :param gamma: penalty hyperparameter of L1-regularization\n",
    "    :param beta: penalty hyperparameter of L2-regularization\n",
    "    \n",
    "    \"\"\"\n",
    "    \n",
    "    return np.mean(np.log(1 + np.exp(-y*(np.dot(X,w)+w0)))) + gamma * np.linalg.norm(w, 1) + beta * (np.linalg.norm(w))**2"
   ]
  },
  {
   "cell_type": "markdown",
   "metadata": {
    "id": "fIVoC6UmDvZE"
   },
   "source": [
    "#### 3. [0.5 points] Implement the gradient (as a function)"
   ]
  },
  {
   "cell_type": "code",
   "execution_count": 3,
   "metadata": {},
   "outputs": [],
   "source": [
    "def sigmoid(z):\n",
    "    '''\n",
    "    Compute the sigmoid of z\n",
    "    params:\n",
    "    z – A scalar or numpy array of any size.\n",
    "    '''\n",
    "    return  1/(1+np.exp(-z))"
   ]
  },
  {
   "cell_type": "code",
   "execution_count": 4,
   "metadata": {
    "id": "HWqBLGRADvZE"
   },
   "outputs": [],
   "source": [
    "def get_grad(X, y, w: List[float], w0: float, gamma=1., beta=1.):# -> Tuple[List[float], float]:\n",
    "    \n",
    "    '''\n",
    "    :param X: np.ndarray of shape (n_objects, n_features) -- matrix objects-features\n",
    "    :param y: np.ndarray of shape (n_objects,) -- vector of the correct answers\n",
    "    :param w: np.ndarray of shape (n_features,) -- the weights\n",
    "    :param w0: intercept\n",
    "    :param gamma: penalty hyperparameter of L1-regularization\n",
    "    :param beta: penalty hyperparameter of L2-regularization\n",
    "    \n",
    "    '''\n",
    "    return [-np.mean(X.T*sigmoid(-y*(np.dot(X,w)+w0))*y, 1) + gamma * np.sign(w) + 2 * beta * w, np.mean(-sigmoid(-y*(np.dot(X,w)+w0))*y)]"
   ]
  },
  {
   "cell_type": "markdown",
   "metadata": {
    "id": "BhOb8HrtDvZF"
   },
   "source": [
    "#### Check yourself"
   ]
  },
  {
   "cell_type": "code",
   "execution_count": 5,
   "metadata": {
    "id": "3FxXTocHDvZF"
   },
   "outputs": [],
   "source": [
    "np.random.seed(42)\n",
    "X = np.random.multivariate_normal(np.arange(5), np.eye(5), size=10)\n",
    "y = np.random.binomial(1, 0.42, size=10)\n",
    "w, w0 = np.random.normal(size=5), np.random.normal()\n",
    "\n",
    "grad_w, grad_w0 = get_grad(X, y, w, w0)\n",
    "\n",
    "assert(np.allclose(grad_w,\n",
    "                   [-2.73262076, -1.87176281, 1.30051144, 2.53598941, -2.71198109],\n",
    "                   rtol=1e-2) & \\\n",
    "       np.allclose(grad_w0,\n",
    "                   -0.2078231418067844, \n",
    "                   rtol=1e-2)\n",
    ")"
   ]
  },
  {
   "cell_type": "markdown",
   "metadata": {
    "id": "LbqLfcrRDvZF"
   },
   "source": [
    "####  4. [1 point]  Implement gradient descent and plot the decision boundary of the result"
   ]
  },
  {
   "cell_type": "markdown",
   "metadata": {
    "id": "iIgiwQkjDvZF"
   },
   "source": [
    "The template provides basic sklearn API class. You are free to modify it in any convenient way."
   ]
  },
  {
   "cell_type": "code",
   "execution_count": 6,
   "metadata": {
    "id": "Thyeux0KDvZG"
   },
   "outputs": [],
   "source": [
    "from sklearn.base import BaseEstimator, ClassifierMixin\n",
    "from sklearn.metrics import roc_curve"
   ]
  },
  {
   "cell_type": "code",
   "execution_count": 7,
   "metadata": {
    "id": "FFwVym3WiZb7"
   },
   "outputs": [],
   "source": [
    "class Logit(BaseEstimator, ClassifierMixin):\n",
    "    def __init__(self, beta=1., gamma=1., lr=1e-2, tolerance=1e-8, max_iter=1000, random_state=2):  \n",
    "        '''\n",
    "        betta: penalty hyperparameter of L2-regularization\n",
    "        gamma: penalty hyperparameter of L1-regularization\n",
    "        tolerance: minimal allowed movement in each iteration\n",
    "        lr: determines the step size at each iteration\n",
    "        max_iter: maximum number of iterations taken for the solvers to converge\n",
    "        \n",
    "        '''\n",
    "        self.beta = beta        \n",
    "        self.gamma = gamma\n",
    "        self.tolerance= tolerance\n",
    "        self.max_iter= max_iter\n",
    "        self.learning_rate = lr\n",
    "        self.random_state = random_state\n",
    "        self.loss_list = []\n",
    "        self.threshold = 0.5\n",
    "  \n",
    "        # you may additional properties if you wish\n",
    "        \n",
    "        \n",
    "    def fit(self, X, y):\n",
    "        \n",
    "        # add weights and bias and optimize Elastic Net loss over (X,y) dataset\n",
    "        # save history of optimization steps\n",
    "        \n",
    "        np.random.seed(self.random_state)\n",
    "        self.w, self.w0 = np.random.normal(size=X.shape[1]), np.random.normal()\n",
    "        movement = 1\n",
    "        i = 0\n",
    "        while movement > self.tolerance and i < self.max_iter:\n",
    "            dw, dw0 = get_grad(X, y, self.w, self.w0, self.gamma, self.beta)\n",
    "            self.w -=  self.learning_rate * dw\n",
    "            self.w0 -=  self.learning_rate * dw0\n",
    "            movement = np.linalg.norm(self.learning_rate * dw)\n",
    "            self.loss_list.append(loss(X, y, self.w, self.w0, self.gamma, self.beta))\n",
    "            i += 1\n",
    "        fpr, tpr, thresholds = roc_curve(y, self.predict_proba(X))\n",
    "        self.threshold = thresholds[np.argmax(np.sqrt(tpr * (1 - fpr)))]\n",
    "        return self\n",
    "     \n",
    "    \n",
    "    def predict(self, X):\n",
    "        '''\n",
    "        Function that returns the vector of predicted labels for each object from X\n",
    "        \n",
    "        '''\n",
    "        return np.where(self.predict_proba(X) < self.threshold, 0, 1)\n",
    "\n",
    "    def predict_proba(self, X):\n",
    "        '''\n",
    "        Function that estimates probabilities \n",
    "\n",
    "        '''\n",
    "        return sigmoid(np.dot(X, self.w) + self.w0)"
   ]
  },
  {
   "cell_type": "code",
   "execution_count": 8,
   "metadata": {
    "id": "7SJX8Y6EDvZG"
   },
   "outputs": [],
   "source": [
    "# sample data to test your model\n",
    "from sklearn.datasets import make_classification\n",
    "X, y = make_classification(n_samples=180, n_features=2, n_redundant=0, n_informative=2,\n",
    "                               random_state=42, n_clusters_per_class=1)"
   ]
  },
  {
   "cell_type": "code",
   "execution_count": 9,
   "metadata": {
    "id": "u41kzwGTDvZH"
   },
   "outputs": [],
   "source": [
    "# a function to plot the decision boundary\n",
    "def plot_decision_boundary(model, X, y):\n",
    "    fig = plt.figure()\n",
    "    X1min, X2min = X.min(axis=0)\n",
    "    X1max, X2max = X.max(axis=0)\n",
    "    x1, x2 = np.meshgrid(np.linspace(X1min, X1max, 200),\n",
    "                         np.linspace(X2min, X2max, 200))\n",
    "    ypred = model.predict(np.c_[x1.ravel(), x2.ravel()])\n",
    "    ypred = ypred.reshape(x1.shape)\n",
    "    \n",
    "    plt.contourf(x1, x2, ypred, alpha=.4)\n",
    "    plt.scatter(X[:,0], X[:,1], c=y)"
   ]
  },
  {
   "cell_type": "code",
   "execution_count": 10,
   "metadata": {
    "id": "mNuYbsAoDvZI",
    "outputId": "fef5b1f8-f50c-4683-cd55-04e3926c1d97"
   },
   "outputs": [
    {
     "data": {
      "image/png": "[encoded data removed]",
      "text/plain": [
       "<Figure size 432x288 with 1 Axes>"
      ]
     },
     "metadata": {},
     "output_type": "display_data"
    }
   ],
   "source": [
    "model = Logit(0,0)\n",
    "y[y == 0] = -1\n",
    "model.fit(X, y)\n",
    "plot_decision_boundary(model, X, y)"
   ]
  },
  {
   "cell_type": "markdown",
   "metadata": {
    "id": "Qi4WRhcADvZI"
   },
   "source": [
    "#### 5. [0.5 points] Plot loss diagram for the model, i.e. show the dependence of the loss function from the gradient descent steps"
   ]
  },
  {
   "cell_type": "code",
   "execution_count": 11,
   "metadata": {
    "id": "R2uptHxWiZb9",
    "outputId": "72c99675-08f8-4ffe-bf54-d1ca1592dee2"
   },
   "outputs": [
    {
     "data": {
      "text/plain": [
       "Text(0.5, 1.0, 'Loss(steps)')"
      ]
     },
     "execution_count": 11,
     "metadata": {},
     "output_type": "execute_result"
    },
    {
     "data": {
      "image/png": "[encoded data removed]",
      "text/plain": [
       "<Figure size 432x288 with 1 Axes>"
      ]
     },
     "metadata": {},
     "output_type": "display_data"
    }
   ],
   "source": [
    "plt.plot(model.loss_list)\n",
    "plt.ylabel('Loss')\n",
    "plt.xlabel('grad descent steps')\n",
    "plt.title('Loss(steps)')"
   ]
  },
  {
   "cell_type": "markdown",
   "metadata": {
    "id": "0FhSCAv_DvZJ"
   },
   "source": [
    "## PART 2: Support Vector Machines"
   ]
  },
  {
   "cell_type": "markdown",
   "metadata": {
    "id": "lYyGsSxEDvZJ"
   },
   "source": [
    "#### 6. [1 point] Using the same dataset, train SVM Classifier from Sklearn.\n",
    "Investigate how different parameters influence the quality of the solution:\n",
    "+ Try several kernels: Linear, Polynomial, RBF (and others if you wish). Some Kernels have hypermeters: don't forget to try different.\n",
    "+ Regularization coefficient \n",
    "\n",
    "Show how these parameters affect accuracy, roc_auc and f1 score. \n",
    "Make plots for the dependencies between metrics and parameters. \n",
    "Try to formulate conclusions from the observations. How sensitive are kernels to hyperparameters? How sensitive is a solution to the regularization? Which kernel is prone to overfitting?"
   ]
  },
  {
   "cell_type": "code",
   "execution_count": 53,
   "metadata": {
    "id": "Nicu_O3IDvZK"
   },
   "outputs": [],
   "source": [
    "from sklearn.svm import SVC # \"Support vector classifier\"\n",
    "from sklearn.metrics import accuracy_score, roc_auc_score, f1_score, auc\n",
    "from sklearn.model_selection import train_test_split\n",
    "from sklearn.model_selection import cross_validate\n",
    "from sklearn.model_selection import GridSearchCV"
   ]
  },
  {
   "cell_type": "code",
   "execution_count": 13,
   "metadata": {},
   "outputs": [],
   "source": [
    "X_train, X_test, y_train, y_test = train_test_split( X, y, test_size=0.25, random_state=13)\n",
    "c = np.linspace(0.1, 0.01, 10)\n",
    "accuracy = [[],[],[]]\n",
    "roc_auc = [[],[],[]]\n",
    "f1 = [[],[],[]]\n",
    "score = [accuracy, roc_auc, f1]\n",
    "kernel = ['linear', 'rbf', 'poly']\n",
    "sc = ['accuracy', 'roc_auc', 'f1']"
   ]
  },
  {
   "cell_type": "code",
   "execution_count": 14,
   "metadata": {},
   "outputs": [],
   "source": [
    "for i in range(3):\n",
    "    for c_reg in c:\n",
    "        model = SVC(kernel=kernel[i], C=c_reg).fit(X_train, y_train)\n",
    "        pred = model.predict(X_test)\n",
    "        score[0][i].append(accuracy_score(y_test, pred))\n",
    "        score[1][i].append(roc_auc_score(y_test, pred))\n",
    "        score[2][i].append(f1_score(y_test, pred))"
   ]
  },
  {
   "cell_type": "code",
   "execution_count": 15,
   "metadata": {},
   "outputs": [
    {
     "data": {
      "image/png": "[encoded data removed]",
      "text/plain": [
       "<Figure size 432x288 with 1 Axes>"
      ]
     },
     "metadata": {},
     "output_type": "display_data"
    },
    {
     "data": {
      "image/png": "[encoded data removed]",
      "text/plain": [
       "<Figure size 432x288 with 1 Axes>"
      ]
     },
     "metadata": {},
     "output_type": "display_data"
    },
    {
     "data": {
      "image/png": "[encoded data removed]",
      "text/plain": [
       "<Figure size 432x288 with 1 Axes>"
      ]
     },
     "metadata": {},
     "output_type": "display_data"
    }
   ],
   "source": [
    "for i in range(3):\n",
    "    plt.plot(score[i][0], label='linear kernel', color = 'red')\n",
    "    plt.plot(score[i][1], label='poly kernel', color = 'green')\n",
    "    plt.plot(score[i][2], label='rbf kernel', color = 'blue')\n",
    "    plt.title(sc[i]+'(c)')\n",
    "    plt.legend()\n",
    "    plt.show()"
   ]
  },
  {
   "cell_type": "markdown",
   "metadata": {},
   "source": [
    "As we see from the graphs, SVM with poly and rbf kernels are prone to overfitting and their score decreases faster with increasing of regularization coefficient. "
   ]
  },
  {
   "cell_type": "markdown",
   "metadata": {
    "id": "sY8q6JdCDvZK"
   },
   "source": [
    "## PART 3: Natural Language Processing"
   ]
  },
  {
   "cell_type": "markdown",
   "metadata": {
    "id": "eD4xKhYfDvZK"
   },
   "source": [
    "#### 7. [2 point] Form the dataset\n",
    "\n",
    "We are going to form a dataset that we will use in the following tasks for binary and multiclass classification\n",
    "\n",
    "0. Choose **six** authors that you like (specify who you've chosen) and download the <a href=\"https://www.kaggle.com/d0rj3228/russian-literature?select=prose\">relevant data</a> from **prose** section\n",
    "1. Build your own dataset for these authors: [0.5 point]\n",
    "    * divide each text into sentences such that we will have two columns: *sentence* and *target author*, each row will contain one sentence and one target\n",
    "    * drop sentences where N symbols in a sentence < 15\n",
    "    * fix random state and randomly choose sentences in the folowing proportion \"30k : 15k : 7k : 20k: 40k : 3k\" for the authors respectively\n",
    "    \n",
    "    sample data may look like:\n",
    "    \n",
    "    <center> \n",
    "    <table>\n",
    "        <tr>\n",
    "            <th> sentence </th>\n",
    "            <th> author </th>\n",
    "        </tr> \n",
    "        <tr><td> Несколько лет тому назад в одном из своих поместий жил старинный русской барин, Кирила Петрович Троекуров. </td><td> Пушкин </td><td> \n",
    "        <tr><td> Уже более недели приезжий господин жил в городе, разъезжая по вечеринкам и обедам и таким образом проводя, как говорится, очень приятно время. </td><td> Гоголь </td><td> \n",
    "        <tr><td> ... </td><td> ... </td><td> \n",
    "        <tr><td> Я жил недорослем, гоняя голубей и играя в чехарду с дворовыми мальчишками. </td><td> Пушкин </td><td>         \n",
    "    </table>\n",
    "</center>\n",
    "     \n",
    "2. Preprocess (tokenize and clean) the dataset  [1.5 point]\n",
    "    * tokenize, remove all stop words (nltk.corpus.stopwords), punctuation (string.punctuation) and numbers\n",
    "    * convert to lower case and lemmatize the words\n",
    "    * vectorize words using both **bag of words** and **tf-idf** (use sklearn)\n",
    "    * observe and describe the difference between vectorized output (what do numbers look like after transformations and what do they represent?)"
   ]
  },
  {
   "cell_type": "code",
   "execution_count": 28,
   "metadata": {},
   "outputs": [],
   "source": [
    "import re\n",
    "import nltk\n",
    "from nltk.corpus import stopwords\n",
    "from nltk.tokenize import word_tokenize\n",
    "import string\n",
    "from pymystem3 import Mystem\n",
    "from sklearn.feature_extraction.text import CountVectorizer\n",
    "from sklearn.feature_extraction.text import TfidfVectorizer\n",
    "from sklearn.metrics import plot_confusion_matrix\n",
    "\n",
    "vectorizer_1 = TfidfVectorizer()\n",
    "vectorizer = CountVectorizer()\n",
    "mystem = Mystem()\n",
    "stopwords = nltk.corpus.stopwords.words('russian')\n",
    "\n",
    "def remove_punctuation(text):\n",
    "    punctuationfree=\"\".join([i for i in text if i not in string.punctuation+'—'+'–'+'1234567890'])\n",
    "    return punctuationfree\n",
    "def remove_stopwords(text):\n",
    "    output = [i for i in text if i not in stopwords]\n",
    "    return output\n",
    "def lemmatizer(text):\n",
    "    lemm_text = [mystem.lemmatize(word)[0] for word in text]\n",
    "    return lemm_text"
   ]
  },
  {
   "cell_type": "code",
   "execution_count": 17,
   "metadata": {
    "id": "NVStbeQ8DvZL"
   },
   "outputs": [
    {
     "data": {
      "text/html": [
       "<div>\n",
       "<style scoped>\n",
       "    .dataframe tbody tr th:only-of-type {\n",
       "        vertical-align: middle;\n",
       "    }\n",
       "\n",
       "    .dataframe tbody tr th {\n",
       "        vertical-align: top;\n",
       "    }\n",
       "\n",
       "    .dataframe thead th {\n",
       "        text-align: right;\n",
       "    }\n",
       "</style>\n",
       "<table border=\"1\" class=\"dataframe\">\n",
       "  <thead>\n",
       "    <tr style=\"text-align: right;\">\n",
       "      <th></th>\n",
       "      <th>sentence</th>\n",
       "      <th>author</th>\n",
       "    </tr>\n",
       "  </thead>\n",
       "  <tbody>\n",
       "    <tr>\n",
       "      <th>0</th>\n",
       "      <td>На палубе парохода, шедшего из Одессы в Севаст...</td>\n",
       "      <td>Чехов</td>\n",
       "    </tr>\n",
       "    <tr>\n",
       "      <th>1</th>\n",
       "      <td>— Обратите внимание на этих немцев, что сидят ...</td>\n",
       "      <td>Чехов</td>\n",
       "    </tr>\n",
       "    <tr>\n",
       "      <th>2</th>\n",
       "      <td>Когда сойдутся немцы или англичане, то говорят...</td>\n",
       "      <td>Чехов</td>\n",
       "    </tr>\n",
       "    <tr>\n",
       "      <th>3</th>\n",
       "      <td>Но главное — о женщинах.</td>\n",
       "      <td>Чехов</td>\n",
       "    </tr>\n",
       "    <tr>\n",
       "      <th>4</th>\n",
       "      <td>Лицо этого господина было уже знакомо мне.</td>\n",
       "      <td>Чехов</td>\n",
       "    </tr>\n",
       "    <tr>\n",
       "      <th>...</th>\n",
       "      <td>...</td>\n",
       "      <td>...</td>\n",
       "    </tr>\n",
       "    <tr>\n",
       "      <th>10342</th>\n",
       "      <td>Трудно сказать, что происходит в этой душе: но...</td>\n",
       "      <td>Тургенев</td>\n",
       "    </tr>\n",
       "    <tr>\n",
       "      <th>10343</th>\n",
       "      <td>Муж Ирины быстро подвигается на том пути, к...</td>\n",
       "      <td>Тургенев</td>\n",
       "    </tr>\n",
       "    <tr>\n",
       "      <th>10344</th>\n",
       "      <td>Тучный генерал обскакивает его; снисходительны...</td>\n",
       "      <td>Тургенев</td>\n",
       "    </tr>\n",
       "    <tr>\n",
       "      <th>10345</th>\n",
       "      <td>И в том же городе, где проживает Ирина, прожив...</td>\n",
       "      <td>Тургенев</td>\n",
       "    </tr>\n",
       "    <tr>\n",
       "      <th>10346</th>\n",
       "      <td>Та девочка, которую поручили его попечениям, н...</td>\n",
       "      <td>Тургенев</td>\n",
       "    </tr>\n",
       "  </tbody>\n",
       "</table>\n",
       "<p>10347 rows × 2 columns</p>\n",
       "</div>"
      ],
      "text/plain": [
       "                                                sentence    author\n",
       "0      На палубе парохода, шедшего из Одессы в Севаст...     Чехов\n",
       "1      — Обратите внимание на этих немцев, что сидят ...     Чехов\n",
       "2      Когда сойдутся немцы или англичане, то говорят...     Чехов\n",
       "3                               Но главное — о женщинах.     Чехов\n",
       "4             Лицо этого господина было уже знакомо мне.     Чехов\n",
       "...                                                  ...       ...\n",
       "10342  Трудно сказать, что происходит в этой душе: но...  Тургенев\n",
       "10343     Муж Ирины быстро подвигается на том пути, к...  Тургенев\n",
       "10344  Тучный генерал обскакивает его; снисходительны...  Тургенев\n",
       "10345  И в том же городе, где проживает Ирина, прожив...  Тургенев\n",
       "10346  Та девочка, которую поручили его попечениям, н...  Тургенев\n",
       "\n",
       "[10347 rows x 2 columns]"
      ]
     },
     "execution_count": 17,
     "metadata": {},
     "output_type": "execute_result"
    }
   ],
   "source": [
    "chehov_splited, tolstoy_splited, brusov_splited, herzen_splited, gorky_splited, turgenev_splited = [],[],[],[],[],[]\n",
    "dataset = []\n",
    "\n",
    "with open('chehov.txt', 'r') as iofile:\n",
    "    chehov = iofile.readlines()\n",
    "for abz in chehov:\n",
    "    chehov_splited.append(re.split(r'(?<=[.!?…]) ', abz))\n",
    "for sen in sum(chehov_splited,[]):\n",
    "    if(len(sen) > 15):\n",
    "        dataset.append([re.sub('\\n', '', sen), 'Чехов'])\n",
    "\n",
    "with open('tolstoy.txt', 'r') as iofile:\n",
    "    tolstoy = iofile.readlines()\n",
    "for abz in tolstoy:\n",
    "    tolstoy_splited.append(re.split(r'(?<=[.!?…]) ', abz))\n",
    "for sen in sum(tolstoy_splited,[]):\n",
    "    if(len(sen) > 15):\n",
    "        dataset.append([re.sub('\\n', '', sen), 'Толстой'])\n",
    "        \n",
    "with open('brusov.txt', 'r') as iofile:\n",
    "    brusov = iofile.readlines()\n",
    "for abz in brusov:\n",
    "    brusov_splited.append(re.split(r'(?<=[.!?…]) ', abz))\n",
    "for sen in sum(brusov_splited,[]):\n",
    "    if(len(sen) > 15):\n",
    "        dataset.append([re.sub('\\n', '', sen), 'Брюсов'])\n",
    "        \n",
    "with open('herzen.txt', 'r') as iofile:\n",
    "    herzen = iofile.readlines()\n",
    "for abz in herzen:\n",
    "    herzen_splited.append(re.split(r'(?<=[.!?…]) ', abz))\n",
    "for sen in sum(herzen_splited,[]):\n",
    "    if(len(sen) > 15):\n",
    "        dataset.append([re.sub('\\n', '', sen), 'Герцен'])\n",
    "\n",
    "with open('gorky.txt', 'r') as iofile:\n",
    "    gorky = iofile.readlines()\n",
    "for abz in gorky:\n",
    "    gorky_splited.append(re.split(r'(?<=[.!?…]) ', abz))\n",
    "for sen in sum(gorky_splited,[]):\n",
    "    if(len(sen) > 15):\n",
    "        dataset.append([re.sub('\\n', '', sen), 'Горький'])\n",
    "\n",
    "with open('turgenev.txt', 'r') as iofile:\n",
    "    turgenev = iofile.readlines()\n",
    "for abz in turgenev:\n",
    "    turgenev_splited.append(re.split(r'(?<=[.!?…]) ', abz))\n",
    "for sen in sum(turgenev_splited,[]):\n",
    "    if(len(sen) > 15):\n",
    "        dataset.append([re.sub('\\n', '', sen), 'Тургенев'])\n",
    "        \n",
    "dataset = pd.DataFrame(dataset, columns=['sentence', 'author'])\n",
    "dataset"
   ]
  },
  {
   "cell_type": "code",
   "execution_count": 18,
   "metadata": {},
   "outputs": [
    {
     "data": {
      "text/html": [
       "<div>\n",
       "<style scoped>\n",
       "    .dataframe tbody tr th:only-of-type {\n",
       "        vertical-align: middle;\n",
       "    }\n",
       "\n",
       "    .dataframe tbody tr th {\n",
       "        vertical-align: top;\n",
       "    }\n",
       "\n",
       "    .dataframe thead th {\n",
       "        text-align: right;\n",
       "    }\n",
       "</style>\n",
       "<table border=\"1\" class=\"dataframe\">\n",
       "  <thead>\n",
       "    <tr style=\"text-align: right;\">\n",
       "      <th></th>\n",
       "      <th>sentence</th>\n",
       "      <th>author</th>\n",
       "      <th>clean</th>\n",
       "    </tr>\n",
       "  </thead>\n",
       "  <tbody>\n",
       "    <tr>\n",
       "      <th>264</th>\n",
       "      <td>Дома в деревне мне бывало стыдно от мужиков, к...</td>\n",
       "      <td>Чехов</td>\n",
       "      <td>[дома, деревня, бывало, стыдно, мужик, будни, ...</td>\n",
       "    </tr>\n",
       "    <tr>\n",
       "      <th>410</th>\n",
       "      <td>Но она была дьявольски хитра и остроумна, и в ...</td>\n",
       "      <td>Чехов</td>\n",
       "      <td>[дьявольски, хитрый, остроумный, общество, уме...</td>\n",
       "    </tr>\n",
       "    <tr>\n",
       "      <th>358</th>\n",
       "      <td>На первых порах он казался оригинальным и возб...</td>\n",
       "      <td>Чехов</td>\n",
       "      <td>[первый, пора, казаться, оригинальный, возбужд...</td>\n",
       "    </tr>\n",
       "    <tr>\n",
       "      <th>129</th>\n",
       "      <td>Я уважаю женщин не меньше вашего, но думаю, чт...</td>\n",
       "      <td>Чехов</td>\n",
       "      <td>[уважать, женщина, мало, ваш, думать, известны...</td>\n",
       "    </tr>\n",
       "    <tr>\n",
       "      <th>418</th>\n",
       "      <td>Я не люблю беременности и родов, но теперь уже...</td>\n",
       "      <td>Чехов</td>\n",
       "      <td>[любить, беременность, род, мечтать, ребенок, ...</td>\n",
       "    </tr>\n",
       "    <tr>\n",
       "      <th>...</th>\n",
       "      <td>...</td>\n",
       "      <td>...</td>\n",
       "      <td>...</td>\n",
       "    </tr>\n",
       "    <tr>\n",
       "      <th>8316</th>\n",
       "      <td>не в такой степени!</td>\n",
       "      <td>Тургенев</td>\n",
       "      <td>[степень]</td>\n",
       "    </tr>\n",
       "    <tr>\n",
       "      <th>9420</th>\n",
       "      <td>– Успеем, тетя.</td>\n",
       "      <td>Тургенев</td>\n",
       "      <td>[успевать, тетя]</td>\n",
       "    </tr>\n",
       "    <tr>\n",
       "      <th>7247</th>\n",
       "      <td>Все наши расколы, наши Онуфриевщины да Акулино...</td>\n",
       "      <td>Тургенев</td>\n",
       "      <td>[наш, раскол, наш, онуфриевщина, акулиновщина,...</td>\n",
       "    </tr>\n",
       "    <tr>\n",
       "      <th>9753</th>\n",
       "      <td>Татьяна приблизилась к Литвинову.</td>\n",
       "      <td>Тургенев</td>\n",
       "      <td>[татьяна, приближаться, литвинов]</td>\n",
       "    </tr>\n",
       "    <tr>\n",
       "      <th>9702</th>\n",
       "      <td>Капитолина Марковна подалась было вперед, н...</td>\n",
       "      <td>Тургенев</td>\n",
       "      <td>[капитолина, марковна, подаваться, вперед, тат...</td>\n",
       "    </tr>\n",
       "  </tbody>\n",
       "</table>\n",
       "<p>3450 rows × 3 columns</p>\n",
       "</div>"
      ],
      "text/plain": [
       "                                               sentence    author  \\\n",
       "264   Дома в деревне мне бывало стыдно от мужиков, к...     Чехов   \n",
       "410   Но она была дьявольски хитра и остроумна, и в ...     Чехов   \n",
       "358   На первых порах он казался оригинальным и возб...     Чехов   \n",
       "129   Я уважаю женщин не меньше вашего, но думаю, чт...     Чехов   \n",
       "418   Я не люблю беременности и родов, но теперь уже...     Чехов   \n",
       "...                                                 ...       ...   \n",
       "8316                                не в такой степени!  Тургенев   \n",
       "9420                                    – Успеем, тетя.  Тургенев   \n",
       "7247  Все наши расколы, наши Онуфриевщины да Акулино...  Тургенев   \n",
       "9753                  Татьяна приблизилась к Литвинову.  Тургенев   \n",
       "9702     Капитолина Марковна подалась было вперед, н...  Тургенев   \n",
       "\n",
       "                                                  clean  \n",
       "264   [дома, деревня, бывало, стыдно, мужик, будни, ...  \n",
       "410   [дьявольски, хитрый, остроумный, общество, уме...  \n",
       "358   [первый, пора, казаться, оригинальный, возбужд...  \n",
       "129   [уважать, женщина, мало, ваш, думать, известны...  \n",
       "418   [любить, беременность, род, мечтать, ребенок, ...  \n",
       "...                                                 ...  \n",
       "8316                                          [степень]  \n",
       "9420                                   [успевать, тетя]  \n",
       "7247  [наш, раскол, наш, онуфриевщина, акулиновщина,...  \n",
       "9753                  [татьяна, приближаться, литвинов]  \n",
       "9702  [капитолина, марковна, подаваться, вперед, тат...  \n",
       "\n",
       "[3450 rows x 3 columns]"
      ]
     },
     "execution_count": 18,
     "metadata": {},
     "output_type": "execute_result"
    }
   ],
   "source": [
    "k = 30\n",
    "dataset = pd.concat([\n",
    "    (dataset.loc[dataset['author'] == 'Чехов']).sample(3*k),\n",
    "    (dataset.loc[dataset['author'] == 'Герцен']).sample(7*k),\n",
    "    (dataset.loc[dataset['author'] == 'Горький']).sample(15*k),\n",
    "    (dataset.loc[dataset['author'] == 'Брюсов']).sample(20*k),\n",
    "    (dataset.loc[dataset['author'] == 'Толстой']).sample(30*k),\n",
    "    (dataset.loc[dataset['author'] == 'Тургенев']).sample(40*k)\n",
    "])\n",
    "dataset['clean']= dataset['sentence'].apply(lambda x:lemmatizer(remove_stopwords(remove_punctuation(x).lower().split())))\n",
    "dataset"
   ]
  },
  {
   "cell_type": "code",
   "execution_count": 19,
   "metadata": {},
   "outputs": [
    {
     "data": {
      "text/html": [
       "<div>\n",
       "<style scoped>\n",
       "    .dataframe tbody tr th:only-of-type {\n",
       "        vertical-align: middle;\n",
       "    }\n",
       "\n",
       "    .dataframe tbody tr th {\n",
       "        vertical-align: top;\n",
       "    }\n",
       "\n",
       "    .dataframe thead th {\n",
       "        text-align: right;\n",
       "    }\n",
       "</style>\n",
       "<table border=\"1\" class=\"dataframe\">\n",
       "  <thead>\n",
       "    <tr style=\"text-align: right;\">\n",
       "      <th></th>\n",
       "      <th>sentence</th>\n",
       "      <th>author</th>\n",
       "      <th>clean</th>\n",
       "      <th>bag</th>\n",
       "      <th>tf_idf</th>\n",
       "    </tr>\n",
       "  </thead>\n",
       "  <tbody>\n",
       "    <tr>\n",
       "      <th>264</th>\n",
       "      <td>Дома в деревне мне бывало стыдно от мужиков, к...</td>\n",
       "      <td>Чехов</td>\n",
       "      <td>[дома, деревня, бывало, стыдно, мужик, будни, ...</td>\n",
       "      <td>[0, 0, 0, 0, 0, 0, 0, 0, 0, 0, 0, 0, 0, 0, 0, ...</td>\n",
       "      <td>[0.0, 0.0, 0.0, 0.0, 0.0, 0.0, 0.0, 0.0, 0.0, ...</td>\n",
       "    </tr>\n",
       "    <tr>\n",
       "      <th>410</th>\n",
       "      <td>Но она была дьявольски хитра и остроумна, и в ...</td>\n",
       "      <td>Чехов</td>\n",
       "      <td>[дьявольски, хитрый, остроумный, общество, уме...</td>\n",
       "      <td>[0, 0, 0, 0, 0, 0, 0, 0, 0, 0, 0, 0, 0, 0, 0, ...</td>\n",
       "      <td>[0.0, 0.0, 0.0, 0.0, 0.0, 0.0, 0.0, 0.0, 0.0, ...</td>\n",
       "    </tr>\n",
       "    <tr>\n",
       "      <th>358</th>\n",
       "      <td>На первых порах он казался оригинальным и возб...</td>\n",
       "      <td>Чехов</td>\n",
       "      <td>[первый, пора, казаться, оригинальный, возбужд...</td>\n",
       "      <td>[0, 0, 0, 0, 0, 0, 0, 0, 0, 0, 0, 0, 0, 0, 0, ...</td>\n",
       "      <td>[0.0, 0.0, 0.0, 0.0, 0.0, 0.0, 0.0, 0.0, 0.0, ...</td>\n",
       "    </tr>\n",
       "    <tr>\n",
       "      <th>129</th>\n",
       "      <td>Я уважаю женщин не меньше вашего, но думаю, чт...</td>\n",
       "      <td>Чехов</td>\n",
       "      <td>[уважать, женщина, мало, ваш, думать, известны...</td>\n",
       "      <td>[0, 0, 0, 0, 0, 0, 0, 0, 0, 0, 0, 0, 0, 0, 0, ...</td>\n",
       "      <td>[0.0, 0.0, 0.0, 0.0, 0.0, 0.0, 0.0, 0.0, 0.0, ...</td>\n",
       "    </tr>\n",
       "    <tr>\n",
       "      <th>418</th>\n",
       "      <td>Я не люблю беременности и родов, но теперь уже...</td>\n",
       "      <td>Чехов</td>\n",
       "      <td>[любить, беременность, род, мечтать, ребенок, ...</td>\n",
       "      <td>[0, 0, 0, 0, 0, 0, 0, 0, 0, 0, 0, 0, 0, 0, 0, ...</td>\n",
       "      <td>[0.0, 0.0, 0.0, 0.0, 0.0, 0.0, 0.0, 0.0, 0.0, ...</td>\n",
       "    </tr>\n",
       "    <tr>\n",
       "      <th>...</th>\n",
       "      <td>...</td>\n",
       "      <td>...</td>\n",
       "      <td>...</td>\n",
       "      <td>...</td>\n",
       "      <td>...</td>\n",
       "    </tr>\n",
       "    <tr>\n",
       "      <th>8316</th>\n",
       "      <td>не в такой степени!</td>\n",
       "      <td>Тургенев</td>\n",
       "      <td>[степень]</td>\n",
       "      <td>[0, 0, 0, 0, 0, 0, 0, 0, 0, 0, 0, 0, 0, 0, 0, ...</td>\n",
       "      <td>[0.0, 0.0, 0.0, 0.0, 0.0, 0.0, 0.0, 0.0, 0.0, ...</td>\n",
       "    </tr>\n",
       "    <tr>\n",
       "      <th>9420</th>\n",
       "      <td>– Успеем, тетя.</td>\n",
       "      <td>Тургенев</td>\n",
       "      <td>[успевать, тетя]</td>\n",
       "      <td>[0, 0, 0, 0, 0, 0, 0, 0, 0, 0, 0, 0, 0, 0, 0, ...</td>\n",
       "      <td>[0.0, 0.0, 0.0, 0.0, 0.0, 0.0, 0.0, 0.0, 0.0, ...</td>\n",
       "    </tr>\n",
       "    <tr>\n",
       "      <th>7247</th>\n",
       "      <td>Все наши расколы, наши Онуфриевщины да Акулино...</td>\n",
       "      <td>Тургенев</td>\n",
       "      <td>[наш, раскол, наш, онуфриевщина, акулиновщина,...</td>\n",
       "      <td>[0, 0, 0, 0, 0, 0, 0, 0, 0, 0, 0, 0, 0, 0, 0, ...</td>\n",
       "      <td>[0.0, 0.0, 0.0, 0.0, 0.0, 0.0, 0.0, 0.0, 0.0, ...</td>\n",
       "    </tr>\n",
       "    <tr>\n",
       "      <th>9753</th>\n",
       "      <td>Татьяна приблизилась к Литвинову.</td>\n",
       "      <td>Тургенев</td>\n",
       "      <td>[татьяна, приближаться, литвинов]</td>\n",
       "      <td>[0, 0, 0, 0, 0, 0, 0, 0, 0, 0, 0, 0, 0, 0, 0, ...</td>\n",
       "      <td>[0.0, 0.0, 0.0, 0.0, 0.0, 0.0, 0.0, 0.0, 0.0, ...</td>\n",
       "    </tr>\n",
       "    <tr>\n",
       "      <th>9702</th>\n",
       "      <td>Капитолина Марковна подалась было вперед, н...</td>\n",
       "      <td>Тургенев</td>\n",
       "      <td>[капитолина, марковна, подаваться, вперед, тат...</td>\n",
       "      <td>[0, 0, 0, 0, 0, 0, 0, 0, 0, 0, 0, 0, 0, 0, 0, ...</td>\n",
       "      <td>[0.0, 0.0, 0.0, 0.0, 0.0, 0.0, 0.0, 0.0, 0.0, ...</td>\n",
       "    </tr>\n",
       "  </tbody>\n",
       "</table>\n",
       "<p>3450 rows × 5 columns</p>\n",
       "</div>"
      ],
      "text/plain": [
       "                                               sentence    author  \\\n",
       "264   Дома в деревне мне бывало стыдно от мужиков, к...     Чехов   \n",
       "410   Но она была дьявольски хитра и остроумна, и в ...     Чехов   \n",
       "358   На первых порах он казался оригинальным и возб...     Чехов   \n",
       "129   Я уважаю женщин не меньше вашего, но думаю, чт...     Чехов   \n",
       "418   Я не люблю беременности и родов, но теперь уже...     Чехов   \n",
       "...                                                 ...       ...   \n",
       "8316                                не в такой степени!  Тургенев   \n",
       "9420                                    – Успеем, тетя.  Тургенев   \n",
       "7247  Все наши расколы, наши Онуфриевщины да Акулино...  Тургенев   \n",
       "9753                  Татьяна приблизилась к Литвинову.  Тургенев   \n",
       "9702     Капитолина Марковна подалась было вперед, н...  Тургенев   \n",
       "\n",
       "                                                  clean  \\\n",
       "264   [дома, деревня, бывало, стыдно, мужик, будни, ...   \n",
       "410   [дьявольски, хитрый, остроумный, общество, уме...   \n",
       "358   [первый, пора, казаться, оригинальный, возбужд...   \n",
       "129   [уважать, женщина, мало, ваш, думать, известны...   \n",
       "418   [любить, беременность, род, мечтать, ребенок, ...   \n",
       "...                                                 ...   \n",
       "8316                                          [степень]   \n",
       "9420                                   [успевать, тетя]   \n",
       "7247  [наш, раскол, наш, онуфриевщина, акулиновщина,...   \n",
       "9753                  [татьяна, приближаться, литвинов]   \n",
       "9702  [капитолина, марковна, подаваться, вперед, тат...   \n",
       "\n",
       "                                                    bag  \\\n",
       "264   [0, 0, 0, 0, 0, 0, 0, 0, 0, 0, 0, 0, 0, 0, 0, ...   \n",
       "410   [0, 0, 0, 0, 0, 0, 0, 0, 0, 0, 0, 0, 0, 0, 0, ...   \n",
       "358   [0, 0, 0, 0, 0, 0, 0, 0, 0, 0, 0, 0, 0, 0, 0, ...   \n",
       "129   [0, 0, 0, 0, 0, 0, 0, 0, 0, 0, 0, 0, 0, 0, 0, ...   \n",
       "418   [0, 0, 0, 0, 0, 0, 0, 0, 0, 0, 0, 0, 0, 0, 0, ...   \n",
       "...                                                 ...   \n",
       "8316  [0, 0, 0, 0, 0, 0, 0, 0, 0, 0, 0, 0, 0, 0, 0, ...   \n",
       "9420  [0, 0, 0, 0, 0, 0, 0, 0, 0, 0, 0, 0, 0, 0, 0, ...   \n",
       "7247  [0, 0, 0, 0, 0, 0, 0, 0, 0, 0, 0, 0, 0, 0, 0, ...   \n",
       "9753  [0, 0, 0, 0, 0, 0, 0, 0, 0, 0, 0, 0, 0, 0, 0, ...   \n",
       "9702  [0, 0, 0, 0, 0, 0, 0, 0, 0, 0, 0, 0, 0, 0, 0, ...   \n",
       "\n",
       "                                                 tf_idf  \n",
       "264   [0.0, 0.0, 0.0, 0.0, 0.0, 0.0, 0.0, 0.0, 0.0, ...  \n",
       "410   [0.0, 0.0, 0.0, 0.0, 0.0, 0.0, 0.0, 0.0, 0.0, ...  \n",
       "358   [0.0, 0.0, 0.0, 0.0, 0.0, 0.0, 0.0, 0.0, 0.0, ...  \n",
       "129   [0.0, 0.0, 0.0, 0.0, 0.0, 0.0, 0.0, 0.0, 0.0, ...  \n",
       "418   [0.0, 0.0, 0.0, 0.0, 0.0, 0.0, 0.0, 0.0, 0.0, ...  \n",
       "...                                                 ...  \n",
       "8316  [0.0, 0.0, 0.0, 0.0, 0.0, 0.0, 0.0, 0.0, 0.0, ...  \n",
       "9420  [0.0, 0.0, 0.0, 0.0, 0.0, 0.0, 0.0, 0.0, 0.0, ...  \n",
       "7247  [0.0, 0.0, 0.0, 0.0, 0.0, 0.0, 0.0, 0.0, 0.0, ...  \n",
       "9753  [0.0, 0.0, 0.0, 0.0, 0.0, 0.0, 0.0, 0.0, 0.0, ...  \n",
       "9702  [0.0, 0.0, 0.0, 0.0, 0.0, 0.0, 0.0, 0.0, 0.0, ...  \n",
       "\n",
       "[3450 rows x 5 columns]"
      ]
     },
     "execution_count": 19,
     "metadata": {},
     "output_type": "execute_result"
    }
   ],
   "source": [
    "data = [\" \".join(list(dataset['clean'])[i]) for i in range(dataset.shape[0])]\n",
    "bag = vectorizer.fit_transform(data)\n",
    "tf_idf = vectorizer_1.fit_transform(data)\n",
    "dataset['bag'] = list(bag.toarray())\n",
    "dataset['tf_idf'] = list(tf_idf.toarray())\n",
    "dataset"
   ]
  },
  {
   "cell_type": "code",
   "execution_count": 20,
   "metadata": {},
   "outputs": [
    {
     "data": {
      "text/plain": [
       "False"
      ]
     },
     "execution_count": 20,
     "metadata": {},
     "output_type": "execute_result"
    }
   ],
   "source": [
    "#are they equal?\n",
    "0 == np.linalg.norm(np.array(bag.toarray())[0] - np.array(tf_idf.toarray())[0])"
   ]
  },
  {
   "cell_type": "code",
   "execution_count": 21,
   "metadata": {},
   "outputs": [
    {
     "data": {
      "text/plain": [
       "True"
      ]
     },
     "execution_count": 21,
     "metadata": {},
     "output_type": "execute_result"
    }
   ],
   "source": [
    "#are their non-zero elements the same?\n",
    "sum(np.where(np.array(tf_idf.toarray())[0] == 0, 0, 1) == np.array(bag.toarray())[0]) - np.array(tf_idf.toarray())[0].shape[0] < 1"
   ]
  },
  {
   "cell_type": "markdown",
   "metadata": {},
   "source": [
    "As we see, Bag Vectorizer give number of frequency with respect to index of vocabulary where as TF-IDF consider overall sentencies of weight of words. So elements of bag vectors are integer, while elements of tf-idf vectors are float."
   ]
  },
  {
   "cell_type": "markdown",
   "metadata": {
    "id": "LuTi3rvnDvZL"
   },
   "source": [
    "###  Binary classification\n",
    "\n",
    "#### 8. [2 point] Train model using Logistic Regression (your own) and SVC (SVM can be taken from sklearn) \n",
    "\n",
    "##### 1. [1 point]\n",
    "* choose *two* authors from the dataset that you have formed in the previous task\n",
    "* check the balance of the classes\n",
    "* divide the data into train and test samples with 3/4 split rate (don't forget to fix the random state)\n",
    "* train the models using cross validation\n",
    "* plot confusion matrix for train and test samples\n",
    "* compute all possible and relevant metrics for test sample (useful to check the seminars 5 and 6, use sklearn) \n",
    "* make conclusions about the performance of your models\n",
    "\n",
    "##### 2. [1 point]\n",
    "* using GridSearchCV - find the best parameters for the models (by ROC_AUC score)\n",
    "* make several plots to address the dependence between ROC_AUC score and parameters\n",
    "* make conclusions about the models\n",
    "\n",
    "**HINT:** In the task 8.2 you should analyze models for binary classification task. How do you think the AUC_ROC should be high? Is the 0.6 enough for us?"
   ]
  },
  {
   "cell_type": "code",
   "execution_count": 22,
   "metadata": {},
   "outputs": [],
   "source": [
    "dataset = pd.concat([\n",
    "    dataset.loc[dataset['author'] == 'Тургенев'],\n",
    "    dataset.loc[dataset['author'] == 'Толстой']\n",
    "    ])"
   ]
  },
  {
   "cell_type": "code",
   "execution_count": 23,
   "metadata": {},
   "outputs": [],
   "source": [
    "X = pd.DataFrame(list(dataset['bag'])).to_numpy()\n",
    "y = np.where(np.array(dataset['author']) == 'Тургенев', 0, 1)\n",
    "X_train, X_test, y_train, y_test = train_test_split( X, y, test_size=0.25, random_state=13)"
   ]
  },
  {
   "cell_type": "code",
   "execution_count": 27,
   "metadata": {},
   "outputs": [
    {
     "data": {
      "text/plain": [
       "{'fit_time': array([19.13971615, 15.19650722, 23.92545915]),\n",
       " 'score_time': array([19.47605395, 14.80963302, 20.09104395]),\n",
       " 'test_accuracy': array([0.73142857, 0.74714286, 0.75285714]),\n",
       " 'train_accuracy': array([0.91071429, 0.90857143, 0.90928571]),\n",
       " 'test_roc_auc': array([0.79755417, 0.82035417, 0.80393333]),\n",
       " 'train_roc_auc': array([0.99341146, 0.99449688, 0.99443854]),\n",
       " 'test_f1': array([0.5982906 , 0.62420382, 0.64182195]),\n",
       " 'train_f1': array([0.88415199, 0.88170055, 0.88273315])}"
      ]
     },
     "execution_count": 27,
     "metadata": {},
     "output_type": "execute_result"
    }
   ],
   "source": [
    "model = SVC().fit(X_train, y_train)\n",
    "scores = cross_validate(model, X, y, cv=3, scoring=('accuracy', 'roc_auc', 'f1'), return_train_score=True)\n",
    "scores"
   ]
  },
  {
   "cell_type": "code",
   "execution_count": 29,
   "metadata": {},
   "outputs": [
    {
     "data": {
      "image/png": "[encoded data removed]",
      "text/plain": [
       "<Figure size 432x288 with 2 Axes>"
      ]
     },
     "metadata": {},
     "output_type": "display_data"
    },
    {
     "data": {
      "image/png": "[encoded data removed]",
      "text/plain": [
       "<Figure size 432x288 with 2 Axes>"
      ]
     },
     "metadata": {},
     "output_type": "display_data"
    }
   ],
   "source": [
    "plot_confusion_matrix(model, X_test, y_test, labels=['Тургенев','Толстой'])  \n",
    "plt.show()\n",
    "plot_confusion_matrix(model, X_train, y_train, labels= ['Тургенев','Толстой'])  \n",
    "plt.show()"
   ]
  },
  {
   "cell_type": "code",
   "execution_count": 50,
   "metadata": {},
   "outputs": [
    {
     "data": {
      "text/plain": [
       "\"\\nmodel = Logit(0,0)\\nscores = cross_validate(model, X, y, cv=5, scoring=('accuracy'), return_train_score=True)\\nscores\\nplot_confusion_matrix(model, X_test, y_test, labels=['Тургенев','Толстой'])  \\nplt.show()\\nplot_confusion_matrix(model, X_train, y_train, labels= ['Тургенев','Толстой'])  \\nplt.show()\\n\""
      ]
     },
     "execution_count": 50,
     "metadata": {},
     "output_type": "execute_result"
    }
   ],
   "source": [
    "'''\n",
    "model = Logit(0,0)\n",
    "scores = cross_validate(model, X, y, cv=5, scoring=('accuracy'), return_train_score=True)\n",
    "scores\n",
    "plot_confusion_matrix(model, X_test, y_test, labels=['Тургенев','Толстой'])  \n",
    "plt.show()\n",
    "plot_confusion_matrix(model, X_train, y_train, labels= ['Тургенев','Толстой'])  \n",
    "plt.show()\n",
    "'''"
   ]
  },
  {
   "cell_type": "markdown",
   "metadata": {},
   "source": [
    "Turgenev are more recognizable by model then Tolstoy. If model predict label 'Tolstoy' it is more likely 'Tolstoy', but if label 'Turgenev' was predicted, true label can also be 'Tolstoy'."
   ]
  },
  {
   "cell_type": "code",
   "execution_count": 36,
   "metadata": {},
   "outputs": [
    {
     "data": {
      "text/plain": [
       "{'mean_fit_time': array([16.09353991, 19.54608192, 20.92599072, 18.07838016, 19.15996218,\n",
       "        20.83356338, 19.58633804, 20.47455006, 22.41658816]),\n",
       " 'std_fit_time': array([0.17332192, 0.05379098, 0.14580154, 1.60126477, 0.12334822,\n",
       "        0.13865584, 4.01711166, 0.17164811, 1.17946597]),\n",
       " 'mean_score_time': array([3.90179887, 4.81838799, 5.16137471, 3.19061823, 4.72682915,\n",
       "        5.13177052, 2.81106553, 4.49167924, 5.85693588]),\n",
       " 'std_score_time': array([0.0165479 , 0.02078577, 0.01195272, 0.01199322, 0.02647296,\n",
       "        0.0075921 , 0.0232378 , 0.01899299, 0.70689468]),\n",
       " 'param_C': masked_array(data=[0.1, 0.1, 0.1, 1, 1, 1, 10, 10, 10],\n",
       "              mask=[False, False, False, False, False, False, False, False,\n",
       "                    False],\n",
       "        fill_value='?',\n",
       "             dtype=object),\n",
       " 'param_kernel': masked_array(data=['linear', 'rbf', 'poly', 'linear', 'rbf', 'poly',\n",
       "                    'linear', 'rbf', 'poly'],\n",
       "              mask=[False, False, False, False, False, False, False, False,\n",
       "                    False],\n",
       "        fill_value='?',\n",
       "             dtype=object),\n",
       " 'params': [{'C': 0.1, 'kernel': 'linear'},\n",
       "  {'C': 0.1, 'kernel': 'rbf'},\n",
       "  {'C': 0.1, 'kernel': 'poly'},\n",
       "  {'C': 1, 'kernel': 'linear'},\n",
       "  {'C': 1, 'kernel': 'rbf'},\n",
       "  {'C': 1, 'kernel': 'poly'},\n",
       "  {'C': 10, 'kernel': 'linear'},\n",
       "  {'C': 10, 'kernel': 'rbf'},\n",
       "  {'C': 10, 'kernel': 'poly'}],\n",
       " 'split0_test_score': array([0.86805556, 0.80707176, 0.77408565, 0.86861111, 0.81934028,\n",
       "        0.78917824, 0.84273148, 0.83091435, 0.79987269]),\n",
       " 'split1_test_score': array([0.89054398, 0.76707176, 0.79349537, 0.88046296, 0.80508102,\n",
       "        0.83703704, 0.83930556, 0.83512731, 0.84303241]),\n",
       " 'split2_test_score': array([0.89670139, 0.83960648, 0.81853009, 0.87364583, 0.84990741,\n",
       "        0.83258102, 0.83417824, 0.83587963, 0.82836806]),\n",
       " 'split3_test_score': array([0.8821875 , 0.81234954, 0.76623843, 0.84340278, 0.82653935,\n",
       "        0.80672454, 0.80157407, 0.81778935, 0.82579861]),\n",
       " 'split4_test_score': array([0.87876157, 0.76961806, 0.77771991, 0.87023148, 0.80804398,\n",
       "        0.81765046, 0.85111111, 0.82483796, 0.82174769]),\n",
       " 'mean_test_score': array([0.88325   , 0.79914352, 0.78601389, 0.86727083, 0.82178241,\n",
       "        0.81663426, 0.83378009, 0.82890972, 0.82376389]),\n",
       " 'std_test_score': array([0.00986193, 0.02747675, 0.01852252, 0.01260888, 0.01604549,\n",
       "        0.01745646, 0.01702004, 0.00680439, 0.01393893]),\n",
       " 'rank_test_score': array([1, 8, 9, 2, 6, 7, 3, 4, 5], dtype=int32)}"
      ]
     },
     "execution_count": 36,
     "metadata": {},
     "output_type": "execute_result"
    }
   ],
   "source": [
    "parameters = {'kernel':('linear', 'rbf', 'poly'), 'C':[0.1, 1, 10]}\n",
    "clf = GridSearchCV(model, parameters, scoring='roc_auc')\n",
    "clf.fit(X, y)\n",
    "clf.cv_results_"
   ]
  },
  {
   "cell_type": "markdown",
   "metadata": {},
   "source": [
    "Best score – C=0.1 and linear kernel."
   ]
  },
  {
   "cell_type": "code",
   "execution_count": 49,
   "metadata": {},
   "outputs": [
    {
     "data": {
      "image/png": "[encoded data removed]",
      "text/plain": [
       "<Figure size 432x288 with 1 Axes>"
      ]
     },
     "metadata": {},
     "output_type": "display_data"
    }
   ],
   "source": [
    "plt.plot([0.1,1,10],[clf.cv_results_['mean_test_score'][i] for i in [0,3,6]], label='linear kernel', color = 'red')\n",
    "plt.plot([0.1,1,10],[clf.cv_results_['mean_test_score'][i] for i in [2,5,8]], label='poly kernel', color = 'green')\n",
    "plt.plot([0.1,1,10],[clf.cv_results_['mean_test_score'][i] for i in [1,4,7]], label='rbf kernel', color = 'blue')\n",
    "plt.title('Score(c)')\n",
    "plt.legend()\n",
    "plt.show()"
   ]
  },
  {
   "cell_type": "markdown",
   "metadata": {
    "id": "5G1kt0qbDvZL"
   },
   "source": [
    "#### 9. [1 point] Analysing ROC_AUC\n",
    "\n",
    "It is possible to control the proportion of statistical errors of different types using different thresholds for choosing a class. Plot ROC curves for Logistic Regression and SVC, show the threshold on ROC curve plots. Choose such a threshold that your models have no more than 30% of false positive errors rate "
   ]
  },
  {
   "cell_type": "code",
   "execution_count": 56,
   "metadata": {},
   "outputs": [],
   "source": [
    "def plot_roc(labels, predictions, positive_label, thresholds_every=10, title=''):\n",
    "    # fp: false positive rates. tp: true positive rates\n",
    "    fp, tp, thresholds = roc_curve(labels, predictions, pos_label=positive_label)\n",
    "    roc_auc = auc(fp, tp)\n",
    "\n",
    "    plt.figure(figsize=(16, 16))\n",
    "    plt.plot(fp, tp, label='ROC curve (area = %0.2f)' % roc_auc, linewidth=2, color='darkorange')\n",
    "    plt.plot([0, 1], [0, 1], color='navy', linestyle='--', linewidth=2)\n",
    "    plt.xlabel('False positives rate')\n",
    "    plt.ylabel('True positives rate')\n",
    "    plt.xlim([-0.03, 1.0])\n",
    "    plt.ylim([0.0, 1.03])\n",
    "    plt.title(title)\n",
    "    plt.legend(loc=\"lower right\")\n",
    "    plt.grid(True)\n",
    "\n",
    "    # plot some thresholds\n",
    "    thresholdsLength = len(thresholds)\n",
    "    colorMap=plt.get_cmap('jet', thresholdsLength)\n",
    "    for i in range(0, thresholdsLength, thresholds_every):\n",
    "    threshold_value_with_max_four_decimals = str(thresholds[i])[:5]\n",
    "    plt.text(fp[i] - 0.03, tp[i] + 0.005, threshold_value_with_max_four_decimals, fontdict={'size': 15}, color=colorMap(i/thresholdsLength));\n",
    "    plt.show()"
   ]
  },
  {
   "cell_type": "code",
   "execution_count": 63,
   "metadata": {
    "id": "BZ2GZ8-uDvZL"
   },
   "outputs": [
    {
     "data": {
      "image/png": "[encoded data removed]",
      "text/plain": [
       "<Figure size 1152x1152 with 1 Axes>"
      ]
     },
     "metadata": {},
     "output_type": "display_data"
    }
   ],
   "source": [
    "model = SVC(kernel='linear',C=0.1).fit(X_train, y_train)\n",
    "plot_roc(y_test, model.predict(X_test), positive_label=1, thresholds_every=1, title=\"ROC Curve\")"
   ]
  },
  {
   "cell_type": "markdown",
   "metadata": {
    "id": "C-qubaK4DvZM"
   },
   "source": [
    "### Multiclass logit"
   ]
  },
  {
   "cell_type": "markdown",
   "metadata": {
    "id": "yJQone-LDvZM"
   },
   "source": [
    "#### 10. [1 point] Take the One-VS-Rest classifier (use sklearn) and apply to Logit model (one you've made in the 4th task) in order to get multiclass linear classifier\n",
    "\n",
    "<a href=\"https://scikit-learn.org/stable/modules/generated/sklearn.multiclass.OneVsRestClassifier.html\">OneVsRestClassifier</a>\n",
    "\n",
    "* use the whole dataset with 6 authors\n",
    "* divide the data into train and test samples with 3/4 split rate\n",
    "* train the model using cross validation\n",
    "* plot confusion matrix for train and test samples\n",
    "* compute all possible and relevant metrics for test sample (use sklearn)\n",
    "* using GridSearchCV - find the best parameters for the models (by averaged ROC_AUC score). **HINT:** Do not forget about set jobs=-1 in the GridSearchCV init to speed up calculations.\n",
    "* make conclusions about the model"
   ]
  },
  {
   "cell_type": "code",
   "execution_count": null,
   "metadata": {
    "id": "M4lR8qJ7DvZM"
   },
   "outputs": [],
   "source": [
    "# your code here"
   ]
  }
 ],
 "metadata": {
  "colab": {
   "collapsed_sections": [],
   "name": "HW3_v7_empty.ipynb",
   "provenance": []
  },
  "kernelspec": {
   "display_name": "Python 3",
   "language": "python",
   "name": "python3"
  },
  "language_info": {
   "codemirror_mode": {
    "name": "ipython",
    "version": 3
   },
   "file_extension": ".py",
   "mimetype": "text/x-python",
   "name": "python",
   "nbconvert_exporter": "python",
   "pygments_lexer": "ipython3",
   "version": "3.8.5"
  }
 },
 "nbformat": 4,
 "nbformat_minor": 1
}
