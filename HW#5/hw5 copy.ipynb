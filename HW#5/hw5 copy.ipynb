{
 "cells": [
  {
   "cell_type": "markdown",
   "id": "68d66cc7",
   "metadata": {},
   "source": [
    "# HSE 2021: Mathematical Methods for Data Analysis\n",
    "\n",
    "## Homework 5"
   ]
  },
  {
   "cell_type": "markdown",
   "id": "1595c4de",
   "metadata": {},
   "source": [
    "### Contents\n",
    "\n",
    "#### PCA, t-SNE – 4 points\n",
    "* [Task 1](#task1) (1 points)\n",
    "* [Task 2](#task2) (1 points)\n",
    "* [Task 3](#task3) (1 points)\n",
    "* [Task 4](#task4) (1 points)\n",
    "\n",
    "#### Clustering – 6 points\n",
    "* [Task 5](#task5) (1.5 points)\n",
    "* [Task 6](#task6) (1.5 points)\n",
    "* [Task 7](#task7) (1.5 points)\n",
    "* [Task 8](#task8) (0.5 point)\n",
    "* [Task 9](#task8) (1 point)"
   ]
  },
  {
   "cell_type": "markdown",
   "id": "36487b18",
   "metadata": {},
   "source": [
    "Download the file `data_Mar_64.txt`."
   ]
  },
  {
   "cell_type": "code",
   "execution_count": null,
   "id": "cb0c899e",
   "metadata": {},
   "outputs": [],
   "source": [
    "#!wget https://raw.githubusercontent.com/AKuzina/ml_se/main/hw/hw_5/data_Mar_64.txt"
   ]
  },
  {
   "cell_type": "code",
   "execution_count": 1,
   "id": "71fbfc1e",
   "metadata": {},
   "outputs": [
    {
     "data": {
      "text/html": [
       "<div>\n",
       "<style scoped>\n",
       "    .dataframe tbody tr th:only-of-type {\n",
       "        vertical-align: middle;\n",
       "    }\n",
       "\n",
       "    .dataframe tbody tr th {\n",
       "        vertical-align: top;\n",
       "    }\n",
       "\n",
       "    .dataframe thead th {\n",
       "        text-align: right;\n",
       "    }\n",
       "</style>\n",
       "<table border=\"1\" class=\"dataframe\">\n",
       "  <thead>\n",
       "    <tr style=\"text-align: right;\">\n",
       "      <th></th>\n",
       "      <th>0</th>\n",
       "      <th>1</th>\n",
       "      <th>2</th>\n",
       "      <th>3</th>\n",
       "      <th>4</th>\n",
       "      <th>5</th>\n",
       "      <th>6</th>\n",
       "      <th>7</th>\n",
       "      <th>8</th>\n",
       "      <th>9</th>\n",
       "      <th>...</th>\n",
       "      <th>55</th>\n",
       "      <th>56</th>\n",
       "      <th>57</th>\n",
       "      <th>58</th>\n",
       "      <th>59</th>\n",
       "      <th>60</th>\n",
       "      <th>61</th>\n",
       "      <th>62</th>\n",
       "      <th>63</th>\n",
       "      <th>64</th>\n",
       "    </tr>\n",
       "  </thead>\n",
       "  <tbody>\n",
       "    <tr>\n",
       "      <th>0</th>\n",
       "      <td>Acer Campestre</td>\n",
       "      <td>0.003906</td>\n",
       "      <td>0.003906</td>\n",
       "      <td>0.027344</td>\n",
       "      <td>0.033203</td>\n",
       "      <td>0.007812</td>\n",
       "      <td>0.017578</td>\n",
       "      <td>0.023438</td>\n",
       "      <td>0.005859</td>\n",
       "      <td>0.000000</td>\n",
       "      <td>...</td>\n",
       "      <td>0.011719</td>\n",
       "      <td>0.000000</td>\n",
       "      <td>0.005859</td>\n",
       "      <td>0.035156</td>\n",
       "      <td>0.027344</td>\n",
       "      <td>0.033203</td>\n",
       "      <td>0.001953</td>\n",
       "      <td>0.000000</td>\n",
       "      <td>0.017578</td>\n",
       "      <td>0.0</td>\n",
       "    </tr>\n",
       "    <tr>\n",
       "      <th>1</th>\n",
       "      <td>Acer Campestre</td>\n",
       "      <td>0.005859</td>\n",
       "      <td>0.013672</td>\n",
       "      <td>0.027344</td>\n",
       "      <td>0.025391</td>\n",
       "      <td>0.013672</td>\n",
       "      <td>0.029297</td>\n",
       "      <td>0.019531</td>\n",
       "      <td>0.000000</td>\n",
       "      <td>0.001953</td>\n",
       "      <td>...</td>\n",
       "      <td>0.017578</td>\n",
       "      <td>0.000000</td>\n",
       "      <td>0.021484</td>\n",
       "      <td>0.017578</td>\n",
       "      <td>0.046875</td>\n",
       "      <td>0.005859</td>\n",
       "      <td>0.003906</td>\n",
       "      <td>0.003906</td>\n",
       "      <td>0.046875</td>\n",
       "      <td>0.0</td>\n",
       "    </tr>\n",
       "    <tr>\n",
       "      <th>2</th>\n",
       "      <td>Acer Campestre</td>\n",
       "      <td>0.011719</td>\n",
       "      <td>0.001953</td>\n",
       "      <td>0.027344</td>\n",
       "      <td>0.044922</td>\n",
       "      <td>0.017578</td>\n",
       "      <td>0.042969</td>\n",
       "      <td>0.023438</td>\n",
       "      <td>0.000000</td>\n",
       "      <td>0.003906</td>\n",
       "      <td>...</td>\n",
       "      <td>0.035156</td>\n",
       "      <td>0.000000</td>\n",
       "      <td>0.015625</td>\n",
       "      <td>0.021484</td>\n",
       "      <td>0.056641</td>\n",
       "      <td>0.009766</td>\n",
       "      <td>0.003906</td>\n",
       "      <td>0.000000</td>\n",
       "      <td>0.015625</td>\n",
       "      <td>0.0</td>\n",
       "    </tr>\n",
       "    <tr>\n",
       "      <th>3</th>\n",
       "      <td>Acer Campestre</td>\n",
       "      <td>0.013672</td>\n",
       "      <td>0.011719</td>\n",
       "      <td>0.037109</td>\n",
       "      <td>0.017578</td>\n",
       "      <td>0.011719</td>\n",
       "      <td>0.087891</td>\n",
       "      <td>0.023438</td>\n",
       "      <td>0.000000</td>\n",
       "      <td>0.000000</td>\n",
       "      <td>...</td>\n",
       "      <td>0.015625</td>\n",
       "      <td>0.001953</td>\n",
       "      <td>0.021484</td>\n",
       "      <td>0.029297</td>\n",
       "      <td>0.033203</td>\n",
       "      <td>0.003906</td>\n",
       "      <td>0.000000</td>\n",
       "      <td>0.001953</td>\n",
       "      <td>0.027344</td>\n",
       "      <td>0.0</td>\n",
       "    </tr>\n",
       "    <tr>\n",
       "      <th>4</th>\n",
       "      <td>Acer Campestre</td>\n",
       "      <td>0.007812</td>\n",
       "      <td>0.009766</td>\n",
       "      <td>0.027344</td>\n",
       "      <td>0.025391</td>\n",
       "      <td>0.001953</td>\n",
       "      <td>0.005859</td>\n",
       "      <td>0.015625</td>\n",
       "      <td>0.000000</td>\n",
       "      <td>0.005859</td>\n",
       "      <td>...</td>\n",
       "      <td>0.023438</td>\n",
       "      <td>0.001953</td>\n",
       "      <td>0.021484</td>\n",
       "      <td>0.048828</td>\n",
       "      <td>0.056641</td>\n",
       "      <td>0.019531</td>\n",
       "      <td>0.000000</td>\n",
       "      <td>0.000000</td>\n",
       "      <td>0.013672</td>\n",
       "      <td>0.0</td>\n",
       "    </tr>\n",
       "  </tbody>\n",
       "</table>\n",
       "<p>5 rows × 65 columns</p>\n",
       "</div>"
      ],
      "text/plain": [
       "               0         1         2         3         4         5         6   \\\n",
       "0  Acer Campestre  0.003906  0.003906  0.027344  0.033203  0.007812  0.017578   \n",
       "1  Acer Campestre  0.005859  0.013672  0.027344  0.025391  0.013672  0.029297   \n",
       "2  Acer Campestre  0.011719  0.001953  0.027344  0.044922  0.017578  0.042969   \n",
       "3  Acer Campestre  0.013672  0.011719  0.037109  0.017578  0.011719  0.087891   \n",
       "4  Acer Campestre  0.007812  0.009766  0.027344  0.025391  0.001953  0.005859   \n",
       "\n",
       "         7         8         9   ...        55        56        57        58  \\\n",
       "0  0.023438  0.005859  0.000000  ...  0.011719  0.000000  0.005859  0.035156   \n",
       "1  0.019531  0.000000  0.001953  ...  0.017578  0.000000  0.021484  0.017578   \n",
       "2  0.023438  0.000000  0.003906  ...  0.035156  0.000000  0.015625  0.021484   \n",
       "3  0.023438  0.000000  0.000000  ...  0.015625  0.001953  0.021484  0.029297   \n",
       "4  0.015625  0.000000  0.005859  ...  0.023438  0.001953  0.021484  0.048828   \n",
       "\n",
       "         59        60        61        62        63   64  \n",
       "0  0.027344  0.033203  0.001953  0.000000  0.017578  0.0  \n",
       "1  0.046875  0.005859  0.003906  0.003906  0.046875  0.0  \n",
       "2  0.056641  0.009766  0.003906  0.000000  0.015625  0.0  \n",
       "3  0.033203  0.003906  0.000000  0.001953  0.027344  0.0  \n",
       "4  0.056641  0.019531  0.000000  0.000000  0.013672  0.0  \n",
       "\n",
       "[5 rows x 65 columns]"
      ]
     },
     "execution_count": 1,
     "metadata": {},
     "output_type": "execute_result"
    }
   ],
   "source": [
    "import pandas as pd\n",
    "data = pd.read_csv('data_Mar_64.txt', header=None)\n",
    "data.head()"
   ]
  },
  {
   "cell_type": "markdown",
   "id": "6bcf3261",
   "metadata": {},
   "source": [
    "This [dataset](https://archive.ics.uci.edu/ml/datasets/One-hundred+plant+species+leaves+data+set) consists of work carried out by James Cope, Charles Mallah, and James Orwell, Kingston University London. The Leaves were collected in the Royal Botanic Gardens, Kew, UK. \n",
    "\n",
    "For Each feature, a 64 element vector is given per sample of leaf. One file for each 64-element feature vectors. **Each row begins with the class label**. Here is the plant leaf **classification task**. The remaining 64 elements is the feature vector."
   ]
  },
  {
   "cell_type": "code",
   "execution_count": 2,
   "id": "91f2186a",
   "metadata": {},
   "outputs": [
    {
     "data": {
      "text/plain": [
       "(1600, 65)"
      ]
     },
     "execution_count": 2,
     "metadata": {},
     "output_type": "execute_result"
    }
   ],
   "source": [
    "#Sixteen samples of leaf each of one-hundred plant species\n",
    "data.shape"
   ]
  },
  {
   "cell_type": "markdown",
   "id": "4937bd47",
   "metadata": {},
   "source": [
    "The first column is the target, put it in a separate variable."
   ]
  },
  {
   "cell_type": "code",
   "execution_count": 3,
   "id": "7b0df42c",
   "metadata": {},
   "outputs": [],
   "source": [
    "import numpy as np\n",
    "X, y_name = np.array(data.iloc[:, 1:]), data.iloc[:, 0]"
   ]
  },
  {
   "cell_type": "markdown",
   "id": "7331684e",
   "metadata": {},
   "source": [
    "**Task 1. <a id=\"task1\"></a> (1 points)** Let's do the following pipeline (detailed instructions will be in next cells)\n",
    "\n",
    "- Encode your textual target.\n",
    "- Split your data into train and test. Train a simple classification model without any improvements and calculate metrics (e.g. Logistic regression).\n",
    "- Then let's look at the low dimensional representations of the features and look at the classes there. We will use linear method PCA and non-linear t-SNE (t-distributed stochastic neighbor embedding). In this task we learn how to visualize data at the low dimensional space and check whether the obtained points are separable or not."
   ]
  },
  {
   "cell_type": "markdown",
   "id": "d46c4134",
   "metadata": {},
   "source": [
    "The target variable takes a text value. Use the `LabelEncoder` from `sklearn` to encode the text variable `y_name` and save the resulting values to the variable `y`."
   ]
  },
  {
   "cell_type": "code",
   "execution_count": null,
   "id": "12771e4b",
   "metadata": {},
   "outputs": [],
   "source": [
    "## your code here"
   ]
  },
  {
   "cell_type": "markdown",
   "id": "423ae831",
   "metadata": {},
   "source": [
    "Split your data into **train** and **test**."
   ]
  },
  {
   "cell_type": "code",
   "execution_count": null,
   "id": "426a9f4a",
   "metadata": {},
   "outputs": [],
   "source": [
    "## your code here"
   ]
  },
  {
   "cell_type": "markdown",
   "id": "be7a0d4f",
   "metadata": {},
   "source": [
    "Train a simple classifier on your data to predict target. Calculate accuracy, F-score."
   ]
  },
  {
   "cell_type": "code",
   "execution_count": null,
   "id": "018f0451",
   "metadata": {},
   "outputs": [],
   "source": [
    "## your code here"
   ]
  },
  {
   "cell_type": "markdown",
   "id": "4452770b",
   "metadata": {},
   "source": [
    "Let's try Principal Component Analysis. Use the `PCA` method from `sklearn.decomposiion` to reduce the dimension of the feature space to two. Fix `random_state=0`"
   ]
  },
  {
   "cell_type": "code",
   "execution_count": null,
   "id": "24c7a465",
   "metadata": {},
   "outputs": [],
   "source": [
    "## your code here"
   ]
  },
  {
   "cell_type": "markdown",
   "id": "5338f036",
   "metadata": {},
   "source": [
    "Select objects that match values from 0 to 14 of the target variable `y`. Draw the selected objects in a two-dimensional feature space using the `scatter` method from `matplotlib.pyplot`. To display objects of different classes in different colors, pass `c = y[y<15]` to the `scatter` method."
   ]
  },
  {
   "cell_type": "code",
   "execution_count": null,
   "id": "baa54d02",
   "metadata": {},
   "outputs": [],
   "source": [
    "import matplotlib.pyplot as plt\n",
    "%matplotlib inline\n",
    "\n",
    "## your code here"
   ]
  },
  {
   "cell_type": "markdown",
   "id": "8daf19d6",
   "metadata": {},
   "source": [
    "Do the same procedure as in two previous cells, but now for the `TSNE` method from `sklearn.manifold`."
   ]
  },
  {
   "cell_type": "code",
   "execution_count": null,
   "id": "04e4caee",
   "metadata": {},
   "outputs": [],
   "source": [
    "## your code here"
   ]
  },
  {
   "cell_type": "markdown",
   "id": "d373aac9",
   "metadata": {},
   "source": [
    "**Task 2. <a id=\"task2\"></a> (1 points)** Specify the coordinates of the object with index 0 (`X[0]`) after applying the TSNE method. Round the numbers to hundredths."
   ]
  },
  {
   "cell_type": "code",
   "execution_count": null,
   "id": "b6e40e82",
   "metadata": {},
   "outputs": [],
   "source": [
    "## your code here\n",
    "\n",
    "cords_1_tsne = ..."
   ]
  },
  {
   "cell_type": "markdown",
   "id": "6ef6b0b7",
   "metadata": {},
   "source": [
    "**Task 3. <a id=\"task3\"></a> (1 points)** Specify the coordinates of the object with index 0 (`X[0]`) after applying the PCA method. Round the numbers to hundredths."
   ]
  },
  {
   "cell_type": "code",
   "execution_count": null,
   "id": "fe3f142f",
   "metadata": {},
   "outputs": [],
   "source": [
    "## your code here\n",
    "\n",
    "cords_1_pca = ..."
   ]
  },
  {
   "cell_type": "markdown",
   "id": "66582f2a",
   "metadata": {},
   "source": [
    "**Task 4. <a id=\"task4\"></a> (1 points)** What conclusions can be drawn from the obtained images? Choose the right one(s).\n",
    "\n",
    "1) Using the principal components method, it was possible to visualize objects on a plane and objects of different classes are visually separable\n",
    "\n",
    "2) Using the TSNE method, it was possible to visualize objects on a plane and objects of different classes are visually separable\n",
    "\n",
    "3) Using the TSNE and PCA methods, it was possible to visualize objects on a plane and objects of different classes are visually separable\n",
    "\n",
    "4) Using the TSNE and PCA methods, it was possible to visualize objects on a plane and objects of different classes are not visually separable"
   ]
  },
  {
   "cell_type": "markdown",
   "id": "beccd6b9",
   "metadata": {},
   "source": [
    "##your answer here\n"
   ]
  },
  {
   "cell_type": "markdown",
   "id": "d8ab8b3b",
   "metadata": {},
   "source": [
    "## K_means"
   ]
  },
  {
   "cell_type": "markdown",
   "id": "0d74c4e9",
   "metadata": {},
   "source": [
    "**Task 5. <a id=\"task5\"></a> (1.5 points)** Implement the MyKMeans class.\n",
    "\n",
    "The class must match the template shown below. Please, add code where needed. Some guidelines are the following:\n",
    "\n",
    "The class constructor is passed to:\n",
    "- n_clusters - the number of clusters that the data will be split into\n",
    "\n",
    "- n_iters - the maximum number of iterations that can be done in this algorithm\n",
    "\n",
    "Realize `update_centers` and `update_labels` methods.\n",
    "\n",
    "\n",
    "In the `fit` method:\n",
    "\n",
    "- Write sequential call of `self_centers` and `self_labels`.\n",
    "\n",
    "then in the loop by the number of iterations you need to implement:\n",
    "- calculate the nearest cluster center for each object\n",
    "- recalculate the center of each cluster (the average of each of the coordinates of all objects assigned to this cluster)\n",
    "put the calculated new cluster centers in the `new_centers` variable\n",
    "\n",
    "In the `predict` method:\n",
    "\n",
    "the nearest cluster centers for `X` objects are calculated"
   ]
  },
  {
   "cell_type": "code",
   "execution_count": null,
   "id": "f70b36f9",
   "metadata": {},
   "outputs": [],
   "source": [
    "from IPython.display import clear_output\n",
    "from sklearn.metrics import pairwise_distances_argmin\n",
    "\n",
    "def plot_clust(X, centers, lables, ax): \n",
    "    ax.scatter(X[:,0], X[:,1], c=lables)\n",
    "    ax.scatter(centers[:,0], centers[:,1], marker='>', color='red')\n",
    "\n",
    "\n",
    "class MyKMeans():\n",
    "    def __init__(self, n_clusters=3, n_iters=100, seed=None):\n",
    "        self.n_clusters = n_clusters\n",
    "        self.labels = None \n",
    "        self.centers = None \n",
    "        self.n_iters = n_iters\n",
    "        self.seed = 0 if seed is None else seed\n",
    "        np.random.seed(self.seed)\n",
    "\n",
    "    def update_centers(self, X):\n",
    "        ## your code here\n",
    "        return centers \n",
    "    \n",
    "    def update_lables(self, X):\n",
    "        ## your code here\n",
    "        return labels \n",
    "\n",
    "    def fit(self, X):\n",
    "        self.centers = ## your code here\n",
    "        \n",
    "        self.labels = ## your code here\n",
    "\n",
    "        for it in range(self.n_iters):\n",
    "            new_labels = self.update_lables(X)\n",
    "            self.labels = new_labels\n",
    "\n",
    "            new_centers = self.update_centers(X)\n",
    "            if np.allclose(self.centers.flatten(), new_centers.flatten(), atol=1e-1):\n",
    "                self.centers = new_centers\n",
    "                self.labels = new_labels\n",
    "                print('Converge by tolerance centers')\n",
    "\n",
    "                fig, ax = plt.subplots(1,1)\n",
    "                plot_clust(X, new_centers, new_labels, ax)\n",
    "                return 0\n",
    "      \n",
    "            self.centers = new_centers\n",
    "\n",
    "            fig, ax = plt.subplots(1,1)\n",
    "            plot_clust(X, new_centers, new_labels, ax)\n",
    "            plt.pause(0.3);\n",
    "            clear_output(wait=True);\n",
    "\n",
    "        return 1\n",
    "    \n",
    "    def predict(self, X):\n",
    "        labels = ## your code here\n",
    "        return labels"
   ]
  },
  {
   "cell_type": "markdown",
   "id": "e6b1f2a2",
   "metadata": {},
   "source": [
    "Generating data for clustering"
   ]
  },
  {
   "cell_type": "code",
   "execution_count": null,
   "id": "5c2d380f",
   "metadata": {},
   "outputs": [],
   "source": [
    "from sklearn import datasets\n",
    "n_samples = 1000\n",
    "\n",
    "noisy_blobs = datasets.make_blobs(n_samples=n_samples,\n",
    "                             cluster_std=[1.0, 0.5, 0.5],\n",
    "                             random_state=0)"
   ]
  },
  {
   "cell_type": "code",
   "execution_count": null,
   "id": "852a410d",
   "metadata": {},
   "outputs": [],
   "source": [
    "X, y = noisy_blobs"
   ]
  },
  {
   "cell_type": "markdown",
   "id": "54132eee",
   "metadata": {},
   "source": [
    "**Task 6. <a id=\"task6\"></a> (1.5 points)** \n",
    "\n",
    "6.1 Cluster noisy_blobs objects with `MyKMeans`, use the hyperparameters `n_clusters=3`, `n_iters=100`. Specify the response for the object with index 1."
   ]
  },
  {
   "cell_type": "code",
   "execution_count": null,
   "id": "1ee62a42",
   "metadata": {},
   "outputs": [],
   "source": [
    "## your code here\n"
   ]
  },
  {
   "cell_type": "markdown",
   "id": "4bf5ed78",
   "metadata": {},
   "source": [
    "6.2 Cluster noisy_blobs objects, use the hyperparameters `n_clusters=3`, `n_iters = 5`. Specify the response for the object with index 1."
   ]
  },
  {
   "cell_type": "code",
   "execution_count": null,
   "id": "46cbe221",
   "metadata": {},
   "outputs": [],
   "source": [
    "# your code here\n"
   ]
  },
  {
   "cell_type": "markdown",
   "id": "230b2fc7",
   "metadata": {},
   "source": [
    "6.3 Calculate how many objects changed the label of the predicted cluster when changing the hyperparameter n_iters from 5 to 100"
   ]
  },
  {
   "cell_type": "code",
   "execution_count": null,
   "id": "e24f2bbf",
   "metadata": {},
   "outputs": [],
   "source": [
    "## your code here\n",
    "\n",
    "num_of_changed = ..."
   ]
  },
  {
   "cell_type": "markdown",
   "id": "09730668",
   "metadata": {},
   "source": [
    "**Task 7. <a id=\"task6\"></a> (1.5 points)** \n",
    "\n",
    "Using the elbow method, select the optimal number of clusters. As a metric, use the sum of the squares of the distances between the data points and the centroids of the clusters assigned to them. To do this, iterate the parameter k from 2 to 50 in steps of 2. "
   ]
  },
  {
   "cell_type": "code",
   "execution_count": null,
   "id": "a16bfa8a",
   "metadata": {},
   "outputs": [],
   "source": [
    "## your code here"
   ]
  },
  {
   "cell_type": "markdown",
   "id": "289428b4",
   "metadata": {},
   "source": [
    "## DBSCAN"
   ]
  },
  {
   "cell_type": "markdown",
   "id": "74bba2b7",
   "metadata": {},
   "source": [
    "**Task 8. <a id=\"task7\"></a> (0.5 points)** Cluster noisy_blobs objects using DBSCAN. Use the DBSCAN implementation from sklearn. Fix the `eps=0.5` hyperparameter. Specify the response for the object with index 1."
   ]
  },
  {
   "cell_type": "code",
   "execution_count": null,
   "id": "0b3c1504",
   "metadata": {},
   "outputs": [],
   "source": [
    "## your code here\n"
   ]
  },
  {
   "cell_type": "markdown",
   "id": "abfbff5a",
   "metadata": {},
   "source": [
    "**Task 9. <a id=\"task8\"></a> (1 point)** 9.1 Specify the resulting number of clusters"
   ]
  },
  {
   "cell_type": "code",
   "execution_count": null,
   "id": "fde8ff96",
   "metadata": {},
   "outputs": [],
   "source": [
    "## your code here\n",
    "\n",
    "num_of_clusters = ..."
   ]
  },
  {
   "cell_type": "markdown",
   "id": "bfd2d719",
   "metadata": {},
   "source": [
    "9.2 How many objects were counted as outliers (marked -1)?"
   ]
  },
  {
   "cell_type": "code",
   "execution_count": null,
   "id": "5676b30f",
   "metadata": {},
   "outputs": [],
   "source": [
    "## your code here\n",
    "\n",
    "num_of_outliers = ..."
   ]
  },
  {
   "cell_type": "markdown",
   "id": "18a8e613",
   "metadata": {},
   "source": [
    " "
   ]
  }
 ],
 "metadata": {
  "kernelspec": {
   "display_name": "Python 3 (ipykernel)",
   "language": "python",
   "name": "python3"
  },
  "language_info": {
   "codemirror_mode": {
    "name": "ipython",
    "version": 3
   },
   "file_extension": ".py",
   "mimetype": "text/x-python",
   "name": "python",
   "nbconvert_exporter": "python",
   "pygments_lexer": "ipython3",
   "version": "3.8.5"
  }
 },
 "nbformat": 4,
 "nbformat_minor": 5
}
